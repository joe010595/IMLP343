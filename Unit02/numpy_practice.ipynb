{
 "cells": [
  {
   "cell_type": "code",
   "execution_count": 3,
   "id": "connected-spanking",
   "metadata": {},
   "outputs": [
    {
     "name": "stdout",
     "output_type": "stream",
     "text": [
      "[[1. 1. 1.]\n",
      " [1. 1. 1.]\n",
      " [1. 1. 1.]\n",
      " [1. 1. 1.]\n",
      " [1. 1. 1.]]\n"
     ]
    }
   ],
   "source": [
    "import numpy as ny\n",
    "a = ny.ones((5,3))\n",
    "print(a)"
   ]
  },
  {
   "cell_type": "code",
   "execution_count": 14,
   "id": "catholic-native",
   "metadata": {},
   "outputs": [
    {
     "name": "stdout",
     "output_type": "stream",
     "text": [
      "[ 1  2  3  4  5  6  7  8  9 10 11 12 13 14 15 16]\n",
      "[[ 1  2  3  4]\n",
      " [ 5  6  7  8]\n",
      " [ 9 10 11 12]\n",
      " [13 14 15 16]]\n"
     ]
    }
   ],
   "source": [
    "b = ny.arange(1,17)\n",
    "print(b)\n",
    "b = b.reshape((4,4))\n",
    "print(b)"
   ]
  },
  {
   "cell_type": "code",
   "execution_count": 15,
   "id": "micro-roommate",
   "metadata": {},
   "outputs": [
    {
     "name": "stdout",
     "output_type": "stream",
     "text": [
      "蘋果    15\n",
      "橘子    33\n",
      "梨子    45\n",
      "dtype: int64\n"
     ]
    }
   ],
   "source": [
    "import pandas as pd\n",
    "fruits = [\"蘋果\", \"橘子\", \"梨子\"]\n",
    "quanities = [15, 33, 45]\n",
    "s = pd.Series(quanities, index=fruits)\n",
    "print(s)"
   ]
  },
  {
   "cell_type": "code",
   "execution_count": 17,
   "id": "binding-treaty",
   "metadata": {},
   "outputs": [
    {
     "name": "stdout",
     "output_type": "stream",
     "text": [
      "33 ['梨子']\n"
     ]
    }
   ],
   "source": [
    "print(s[\"橘子\"], [\"梨子\"])"
   ]
  },
  {
   "cell_type": "code",
   "execution_count": 19,
   "id": "accepted-brother",
   "metadata": {},
   "outputs": [
    {
     "name": "stdout",
     "output_type": "stream",
     "text": [
      "橘子    33\n",
      "梨子    45\n",
      "dtype: int64\n"
     ]
    }
   ],
   "source": [
    "print(s[[\"橘子\", \"梨子\"]])"
   ]
  },
  {
   "cell_type": "code",
   "execution_count": 24,
   "id": "seasonal-chicago",
   "metadata": {},
   "outputs": [
    {
     "name": "stdout",
     "output_type": "stream",
     "text": [
      "33 45\n"
     ]
    }
   ],
   "source": [
    "print(s[\"橘子\"], s[\"梨子\"])"
   ]
  },
  {
   "cell_type": "code",
   "execution_count": 25,
   "id": "endangered-making",
   "metadata": {},
   "outputs": [
    {
     "name": "stdout",
     "output_type": "stream",
     "text": [
      "橘子    33\n",
      "dtype: int64 梨子    45\n",
      "dtype: int64\n"
     ]
    }
   ],
   "source": [
    "print(s[[\"橘子\"]], s[[\"梨子\"]])"
   ]
  },
  {
   "cell_type": "code",
   "execution_count": 42,
   "id": "deadly-emission",
   "metadata": {},
   "outputs": [
    {
     "name": "stdout",
     "output_type": "stream",
     "text": [
      "3\n",
      "1 4\n",
      "[1]\n"
     ]
    },
    {
     "ename": "IndexError",
     "evalue": "list assignment index out of range",
     "output_type": "error",
     "traceback": [
      "\u001b[1;31m---------------------------------------------------------------------------\u001b[0m",
      "\u001b[1;31mIndexError\u001b[0m                                Traceback (most recent call last)",
      "\u001b[1;32m<ipython-input-42-c1a14f3b84dd>\u001b[0m in \u001b[0;36m<module>\u001b[1;34m\u001b[0m\n\u001b[0;32m      3\u001b[0m \u001b[0mprint\u001b[0m\u001b[1;33m(\u001b[0m\u001b[0ma\u001b[0m\u001b[1;33m[\u001b[0m\u001b[1;36m0\u001b[0m\u001b[1;33m]\u001b[0m\u001b[1;33m,\u001b[0m\u001b[0ma\u001b[0m\u001b[1;33m[\u001b[0m\u001b[1;36m3\u001b[0m\u001b[1;33m]\u001b[0m\u001b[1;33m)\u001b[0m\u001b[1;33m\u001b[0m\u001b[1;33m\u001b[0m\u001b[0m\n\u001b[0;32m      4\u001b[0m \u001b[0mprint\u001b[0m\u001b[1;33m(\u001b[0m\u001b[0ma\u001b[0m\u001b[1;33m[\u001b[0m\u001b[1;36m0\u001b[0m\u001b[1;33m:\u001b[0m \u001b[1;36m1\u001b[0m\u001b[1;33m]\u001b[0m\u001b[1;33m)\u001b[0m\u001b[1;33m\u001b[0m\u001b[1;33m\u001b[0m\u001b[0m\n\u001b[1;32m----> 5\u001b[1;33m \u001b[0ma\u001b[0m\u001b[1;33m[\u001b[0m\u001b[1;36m4\u001b[0m\u001b[1;33m]\u001b[0m \u001b[1;33m=\u001b[0m \u001b[0mint\u001b[0m\u001b[1;33m(\u001b[0m\u001b[1;36m5\u001b[0m\u001b[1;33m)\u001b[0m\u001b[1;33m\u001b[0m\u001b[1;33m\u001b[0m\u001b[0m\n\u001b[0m\u001b[0;32m      6\u001b[0m \u001b[0mprint\u001b[0m\u001b[1;33m(\u001b[0m\u001b[0ma\u001b[0m\u001b[1;33m)\u001b[0m\u001b[1;33m\u001b[0m\u001b[1;33m\u001b[0m\u001b[0m\n",
      "\u001b[1;31mIndexError\u001b[0m: list assignment index out of range"
     ]
    }
   ],
   "source": [
    "a = [1, 2, 3, 4]\n",
    "print(a[2])\n",
    "print(a[0],a[3])\n",
    "print(a[0: 1])\n",
    "a[4] = int(5)\n",
    "print(a)"
   ]
  },
  {
   "cell_type": "code",
   "execution_count": 29,
   "id": "after-product",
   "metadata": {},
   "outputs": [
    {
     "name": "stdout",
     "output_type": "stream",
     "text": [
      "   蘋果  香蕉  橘子\n",
      "0   4   0   1\n",
      "1   3   4   5\n",
      "2   1   6   2\n",
      "3   0   2   4\n"
     ]
    }
   ],
   "source": [
    "fruit = {\"蘋果\":[4, 3, 1, 0], \"香蕉\":[0, 4, 6, 2], \"橘子\":[1, 5, 2, 4]}\n",
    "fruit_table = pd.DataFrame(fruit)\n",
    "print(fruit_table)"
   ]
  },
  {
   "cell_type": "code",
   "execution_count": 37,
   "id": "marine-frost",
   "metadata": {},
   "outputs": [
    {
     "name": "stdout",
     "output_type": "stream",
     "text": [
      "0 4 0 1\n",
      "1 3 4 5\n",
      "2 1 6 2\n",
      "3 0 2 4\n"
     ]
    }
   ],
   "source": [
    "for index, row in fruit_table.iterrows():\n",
    "    ### print(index)\n",
    "    ### print(row)\n",
    "    print(index, row[\"蘋果\"], row[\"香蕉\"], row[\"橘子\"])"
   ]
  },
  {
   "cell_type": "code",
   "execution_count": 41,
   "id": "trained-democrat",
   "metadata": {},
   "outputs": [
    {
     "name": "stdout",
     "output_type": "stream",
     "text": [
      "(0, 蘋果    4\n",
      "香蕉    0\n",
      "橘子    1\n",
      "Name: 0, dtype: int64)\n",
      "(1, 蘋果    3\n",
      "香蕉    4\n",
      "橘子    5\n",
      "Name: 1, dtype: int64)\n",
      "(2, 蘋果    1\n",
      "香蕉    6\n",
      "橘子    2\n",
      "Name: 2, dtype: int64)\n",
      "(3, 蘋果    0\n",
      "香蕉    2\n",
      "橘子    4\n",
      "Name: 3, dtype: int64)\n"
     ]
    }
   ],
   "source": [
    "for index in fruit_table.iterrows():\n",
    "    ### print(index)\n",
    "    ### print(row)\n",
    "    print(index)"
   ]
  },
  {
   "cell_type": "code",
   "execution_count": 4,
   "id": "rocky-tragedy",
   "metadata": {},
   "outputs": [
    {
     "data": {
      "text/plain": [
       "array([ True, False, False,  True,  True, False])"
      ]
     },
     "execution_count": 4,
     "metadata": {},
     "output_type": "execute_result"
    }
   ],
   "source": [
    "L = ny.array([3, -2, -1, 5, 7, -3])\n",
    "A = L > 0\n",
    "A"
   ]
  },
  {
   "cell_type": "code",
   "execution_count": null,
   "id": "brown-cooking",
   "metadata": {},
   "outputs": [],
   "source": []
  }
 ],
 "metadata": {
  "kernelspec": {
   "display_name": "Python 3",
   "language": "python",
   "name": "python3"
  },
  "language_info": {
   "codemirror_mode": {
    "name": "ipython",
    "version": 3
   },
   "file_extension": ".py",
   "mimetype": "text/x-python",
   "name": "python",
   "nbconvert_exporter": "python",
   "pygments_lexer": "ipython3",
   "version": "3.8.5"
  }
 },
 "nbformat": 4,
 "nbformat_minor": 5
}
